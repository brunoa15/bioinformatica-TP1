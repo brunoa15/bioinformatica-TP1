{
 "cells": [
  {
   "cell_type": "markdown",
   "metadata": {},
   "source": [
    "# Trabalho Prático 1 - Bioinformática\n",
    "\n",
    "## Integrantes:\n",
    "* Bruno Vieira - 2016058018\n",
    "* Isabela Meneguci - 2016058328\n",
    "* Gabriel Fonseca - 2017023439"
   ]
  },
  {
   "cell_type": "code",
   "execution_count": 2,
   "metadata": {},
   "outputs": [],
   "source": [
    "import numpy as np\n",
    "import pandas as pd"
   ]
  },
  {
   "cell_type": "markdown",
   "metadata": {},
   "source": [
    "## Implementação da matriz BLOSSUM62"
   ]
  },
  {
   "cell_type": "code",
   "execution_count": 3,
   "metadata": {},
   "outputs": [
    {
     "output_type": "execute_result",
     "data": {
      "text/plain": [
       "   A  R  N  D  C  Q  E  G  H  I  L  K  M  F  P  S  T   W  Y  V\n",
       "                                                              \n",
       "A  4 -1 -2 -2  0 -1 -1  0 -2 -1 -1 -1 -1 -2 -1  1  0  -3 -2  0\n",
       "R -1  5  0 -2 -3  1  0 -2  0 -3 -2  2 -1 -3 -2 -1 -1  -3 -2 -3\n",
       "N -2  0  6  1 -3  0  0  0  1 -3 -3  0 -2 -3 -2  1  0  -4 -2 -3\n",
       "D -2 -2  1  6 -3  0  2 -1 -1 -3 -4 -1 -3 -3 -1  0 -1  -4 -3 -3\n",
       "C  0 -3 -3 -3  9 -3 -4 -3 -3 -1 -1 -3 -1 -2 -3 -1 -1  -2 -2 -1\n",
       "Q -1  1  0  0 -3  5  2 -2  0 -3 -2  1  0 -3 -1  0 -1  -2 -1 -2\n",
       "E -1  0  0  2 -4  2  5 -2  0 -3 -3  1 -2 -3 -1  0 -1  -3 -2 -2\n",
       "G  0 -2  0 -1 -3 -2 -2  6 -2 -4 -4 -2 -3 -3 -2  0 -2  -2 -3 -3\n",
       "H -2  0  1 -1 -3  0  0 -2  8 -3 -3 -1 -2 -1 -2 -1 -2  -2  2 -3\n",
       "I -1 -3 -3 -3 -1 -3 -3 -4 -3  4  2 -3  1  0 -3 -2 -1  -3 -1  3\n",
       "L -1 -2 -3 -4 -1 -2 -3 -4 -3  2  4 -2  2  0 -3 -2 -1  -2 -1  1\n",
       "K -1  2  0 -1 -3  1  1 -2 -1 -3 -2  5 -1 -3 -1  0 -1  -3 -2 -2\n",
       "M -1 -1 -2 -3 -1  0 -2 -3 -2  1  2 -1  5  0 -2 -1 -1  -1 -1  1\n",
       "F -2 -3 -3 -3 -2 -3 -3 -3 -1  0  0 -3  0  6 -4 -2 -2   1  3 -1\n",
       "P -1 -2 -2 -1 -3 -1 -1 -2 -2 -3 -3 -1 -2 -4  7 -1 -1  -4 -3 -2\n",
       "S  1 -1  1  0 -1  0  0  0 -1 -2 -2  0 -1 -2 -1  4  1  -3 -2 -2\n",
       "T  0 -1  0 -1 -1 -1 -1 -2 -2 -1 -1 -1 -1 -2 -1  1  5  -2 -2  0\n",
       "W -3 -3 -4 -4 -2 -2 -3 -2 -2 -3 -2 -3 -1  1 -4 -3 -2  11  2 -3\n",
       "Y -2 -2 -2 -3 -2 -1 -2 -3  2 -1 -1 -2 -1  3 -3 -2 -2   2  7 -1\n",
       "V  0 -3 -3 -3 -1 -2 -2 -3 -3  3  1 -2  1 -1 -2 -2  0  -3 -1  4"
      ],
      "text/html": "<div>\n<style scoped>\n    .dataframe tbody tr th:only-of-type {\n        vertical-align: middle;\n    }\n\n    .dataframe tbody tr th {\n        vertical-align: top;\n    }\n\n    .dataframe thead th {\n        text-align: right;\n    }\n</style>\n<table border=\"1\" class=\"dataframe\">\n  <thead>\n    <tr style=\"text-align: right;\">\n      <th></th>\n      <th>A</th>\n      <th>R</th>\n      <th>N</th>\n      <th>D</th>\n      <th>C</th>\n      <th>Q</th>\n      <th>E</th>\n      <th>G</th>\n      <th>H</th>\n      <th>I</th>\n      <th>L</th>\n      <th>K</th>\n      <th>M</th>\n      <th>F</th>\n      <th>P</th>\n      <th>S</th>\n      <th>T</th>\n      <th>W</th>\n      <th>Y</th>\n      <th>V</th>\n    </tr>\n    <tr>\n      <th></th>\n      <th></th>\n      <th></th>\n      <th></th>\n      <th></th>\n      <th></th>\n      <th></th>\n      <th></th>\n      <th></th>\n      <th></th>\n      <th></th>\n      <th></th>\n      <th></th>\n      <th></th>\n      <th></th>\n      <th></th>\n      <th></th>\n      <th></th>\n      <th></th>\n      <th></th>\n      <th></th>\n    </tr>\n  </thead>\n  <tbody>\n    <tr>\n      <th>A</th>\n      <td>4</td>\n      <td>-1</td>\n      <td>-2</td>\n      <td>-2</td>\n      <td>0</td>\n      <td>-1</td>\n      <td>-1</td>\n      <td>0</td>\n      <td>-2</td>\n      <td>-1</td>\n      <td>-1</td>\n      <td>-1</td>\n      <td>-1</td>\n      <td>-2</td>\n      <td>-1</td>\n      <td>1</td>\n      <td>0</td>\n      <td>-3</td>\n      <td>-2</td>\n      <td>0</td>\n    </tr>\n    <tr>\n      <th>R</th>\n      <td>-1</td>\n      <td>5</td>\n      <td>0</td>\n      <td>-2</td>\n      <td>-3</td>\n      <td>1</td>\n      <td>0</td>\n      <td>-2</td>\n      <td>0</td>\n      <td>-3</td>\n      <td>-2</td>\n      <td>2</td>\n      <td>-1</td>\n      <td>-3</td>\n      <td>-2</td>\n      <td>-1</td>\n      <td>-1</td>\n      <td>-3</td>\n      <td>-2</td>\n      <td>-3</td>\n    </tr>\n    <tr>\n      <th>N</th>\n      <td>-2</td>\n      <td>0</td>\n      <td>6</td>\n      <td>1</td>\n      <td>-3</td>\n      <td>0</td>\n      <td>0</td>\n      <td>0</td>\n      <td>1</td>\n      <td>-3</td>\n      <td>-3</td>\n      <td>0</td>\n      <td>-2</td>\n      <td>-3</td>\n      <td>-2</td>\n      <td>1</td>\n      <td>0</td>\n      <td>-4</td>\n      <td>-2</td>\n      <td>-3</td>\n    </tr>\n    <tr>\n      <th>D</th>\n      <td>-2</td>\n      <td>-2</td>\n      <td>1</td>\n      <td>6</td>\n      <td>-3</td>\n      <td>0</td>\n      <td>2</td>\n      <td>-1</td>\n      <td>-1</td>\n      <td>-3</td>\n      <td>-4</td>\n      <td>-1</td>\n      <td>-3</td>\n      <td>-3</td>\n      <td>-1</td>\n      <td>0</td>\n      <td>-1</td>\n      <td>-4</td>\n      <td>-3</td>\n      <td>-3</td>\n    </tr>\n    <tr>\n      <th>C</th>\n      <td>0</td>\n      <td>-3</td>\n      <td>-3</td>\n      <td>-3</td>\n      <td>9</td>\n      <td>-3</td>\n      <td>-4</td>\n      <td>-3</td>\n      <td>-3</td>\n      <td>-1</td>\n      <td>-1</td>\n      <td>-3</td>\n      <td>-1</td>\n      <td>-2</td>\n      <td>-3</td>\n      <td>-1</td>\n      <td>-1</td>\n      <td>-2</td>\n      <td>-2</td>\n      <td>-1</td>\n    </tr>\n    <tr>\n      <th>Q</th>\n      <td>-1</td>\n      <td>1</td>\n      <td>0</td>\n      <td>0</td>\n      <td>-3</td>\n      <td>5</td>\n      <td>2</td>\n      <td>-2</td>\n      <td>0</td>\n      <td>-3</td>\n      <td>-2</td>\n      <td>1</td>\n      <td>0</td>\n      <td>-3</td>\n      <td>-1</td>\n      <td>0</td>\n      <td>-1</td>\n      <td>-2</td>\n      <td>-1</td>\n      <td>-2</td>\n    </tr>\n    <tr>\n      <th>E</th>\n      <td>-1</td>\n      <td>0</td>\n      <td>0</td>\n      <td>2</td>\n      <td>-4</td>\n      <td>2</td>\n      <td>5</td>\n      <td>-2</td>\n      <td>0</td>\n      <td>-3</td>\n      <td>-3</td>\n      <td>1</td>\n      <td>-2</td>\n      <td>-3</td>\n      <td>-1</td>\n      <td>0</td>\n      <td>-1</td>\n      <td>-3</td>\n      <td>-2</td>\n      <td>-2</td>\n    </tr>\n    <tr>\n      <th>G</th>\n      <td>0</td>\n      <td>-2</td>\n      <td>0</td>\n      <td>-1</td>\n      <td>-3</td>\n      <td>-2</td>\n      <td>-2</td>\n      <td>6</td>\n      <td>-2</td>\n      <td>-4</td>\n      <td>-4</td>\n      <td>-2</td>\n      <td>-3</td>\n      <td>-3</td>\n      <td>-2</td>\n      <td>0</td>\n      <td>-2</td>\n      <td>-2</td>\n      <td>-3</td>\n      <td>-3</td>\n    </tr>\n    <tr>\n      <th>H</th>\n      <td>-2</td>\n      <td>0</td>\n      <td>1</td>\n      <td>-1</td>\n      <td>-3</td>\n      <td>0</td>\n      <td>0</td>\n      <td>-2</td>\n      <td>8</td>\n      <td>-3</td>\n      <td>-3</td>\n      <td>-1</td>\n      <td>-2</td>\n      <td>-1</td>\n      <td>-2</td>\n      <td>-1</td>\n      <td>-2</td>\n      <td>-2</td>\n      <td>2</td>\n      <td>-3</td>\n    </tr>\n    <tr>\n      <th>I</th>\n      <td>-1</td>\n      <td>-3</td>\n      <td>-3</td>\n      <td>-3</td>\n      <td>-1</td>\n      <td>-3</td>\n      <td>-3</td>\n      <td>-4</td>\n      <td>-3</td>\n      <td>4</td>\n      <td>2</td>\n      <td>-3</td>\n      <td>1</td>\n      <td>0</td>\n      <td>-3</td>\n      <td>-2</td>\n      <td>-1</td>\n      <td>-3</td>\n      <td>-1</td>\n      <td>3</td>\n    </tr>\n    <tr>\n      <th>L</th>\n      <td>-1</td>\n      <td>-2</td>\n      <td>-3</td>\n      <td>-4</td>\n      <td>-1</td>\n      <td>-2</td>\n      <td>-3</td>\n      <td>-4</td>\n      <td>-3</td>\n      <td>2</td>\n      <td>4</td>\n      <td>-2</td>\n      <td>2</td>\n      <td>0</td>\n      <td>-3</td>\n      <td>-2</td>\n      <td>-1</td>\n      <td>-2</td>\n      <td>-1</td>\n      <td>1</td>\n    </tr>\n    <tr>\n      <th>K</th>\n      <td>-1</td>\n      <td>2</td>\n      <td>0</td>\n      <td>-1</td>\n      <td>-3</td>\n      <td>1</td>\n      <td>1</td>\n      <td>-2</td>\n      <td>-1</td>\n      <td>-3</td>\n      <td>-2</td>\n      <td>5</td>\n      <td>-1</td>\n      <td>-3</td>\n      <td>-1</td>\n      <td>0</td>\n      <td>-1</td>\n      <td>-3</td>\n      <td>-2</td>\n      <td>-2</td>\n    </tr>\n    <tr>\n      <th>M</th>\n      <td>-1</td>\n      <td>-1</td>\n      <td>-2</td>\n      <td>-3</td>\n      <td>-1</td>\n      <td>0</td>\n      <td>-2</td>\n      <td>-3</td>\n      <td>-2</td>\n      <td>1</td>\n      <td>2</td>\n      <td>-1</td>\n      <td>5</td>\n      <td>0</td>\n      <td>-2</td>\n      <td>-1</td>\n      <td>-1</td>\n      <td>-1</td>\n      <td>-1</td>\n      <td>1</td>\n    </tr>\n    <tr>\n      <th>F</th>\n      <td>-2</td>\n      <td>-3</td>\n      <td>-3</td>\n      <td>-3</td>\n      <td>-2</td>\n      <td>-3</td>\n      <td>-3</td>\n      <td>-3</td>\n      <td>-1</td>\n      <td>0</td>\n      <td>0</td>\n      <td>-3</td>\n      <td>0</td>\n      <td>6</td>\n      <td>-4</td>\n      <td>-2</td>\n      <td>-2</td>\n      <td>1</td>\n      <td>3</td>\n      <td>-1</td>\n    </tr>\n    <tr>\n      <th>P</th>\n      <td>-1</td>\n      <td>-2</td>\n      <td>-2</td>\n      <td>-1</td>\n      <td>-3</td>\n      <td>-1</td>\n      <td>-1</td>\n      <td>-2</td>\n      <td>-2</td>\n      <td>-3</td>\n      <td>-3</td>\n      <td>-1</td>\n      <td>-2</td>\n      <td>-4</td>\n      <td>7</td>\n      <td>-1</td>\n      <td>-1</td>\n      <td>-4</td>\n      <td>-3</td>\n      <td>-2</td>\n    </tr>\n    <tr>\n      <th>S</th>\n      <td>1</td>\n      <td>-1</td>\n      <td>1</td>\n      <td>0</td>\n      <td>-1</td>\n      <td>0</td>\n      <td>0</td>\n      <td>0</td>\n      <td>-1</td>\n      <td>-2</td>\n      <td>-2</td>\n      <td>0</td>\n      <td>-1</td>\n      <td>-2</td>\n      <td>-1</td>\n      <td>4</td>\n      <td>1</td>\n      <td>-3</td>\n      <td>-2</td>\n      <td>-2</td>\n    </tr>\n    <tr>\n      <th>T</th>\n      <td>0</td>\n      <td>-1</td>\n      <td>0</td>\n      <td>-1</td>\n      <td>-1</td>\n      <td>-1</td>\n      <td>-1</td>\n      <td>-2</td>\n      <td>-2</td>\n      <td>-1</td>\n      <td>-1</td>\n      <td>-1</td>\n      <td>-1</td>\n      <td>-2</td>\n      <td>-1</td>\n      <td>1</td>\n      <td>5</td>\n      <td>-2</td>\n      <td>-2</td>\n      <td>0</td>\n    </tr>\n    <tr>\n      <th>W</th>\n      <td>-3</td>\n      <td>-3</td>\n      <td>-4</td>\n      <td>-4</td>\n      <td>-2</td>\n      <td>-2</td>\n      <td>-3</td>\n      <td>-2</td>\n      <td>-2</td>\n      <td>-3</td>\n      <td>-2</td>\n      <td>-3</td>\n      <td>-1</td>\n      <td>1</td>\n      <td>-4</td>\n      <td>-3</td>\n      <td>-2</td>\n      <td>11</td>\n      <td>2</td>\n      <td>-3</td>\n    </tr>\n    <tr>\n      <th>Y</th>\n      <td>-2</td>\n      <td>-2</td>\n      <td>-2</td>\n      <td>-3</td>\n      <td>-2</td>\n      <td>-1</td>\n      <td>-2</td>\n      <td>-3</td>\n      <td>2</td>\n      <td>-1</td>\n      <td>-1</td>\n      <td>-2</td>\n      <td>-1</td>\n      <td>3</td>\n      <td>-3</td>\n      <td>-2</td>\n      <td>-2</td>\n      <td>2</td>\n      <td>7</td>\n      <td>-1</td>\n    </tr>\n    <tr>\n      <th>V</th>\n      <td>0</td>\n      <td>-3</td>\n      <td>-3</td>\n      <td>-3</td>\n      <td>-1</td>\n      <td>-2</td>\n      <td>-2</td>\n      <td>-3</td>\n      <td>-3</td>\n      <td>3</td>\n      <td>1</td>\n      <td>-2</td>\n      <td>1</td>\n      <td>-1</td>\n      <td>-2</td>\n      <td>-2</td>\n      <td>0</td>\n      <td>-3</td>\n      <td>-1</td>\n      <td>4</td>\n    </tr>\n  </tbody>\n</table>\n</div>"
     },
     "metadata": {},
     "execution_count": 3
    }
   ],
   "source": [
    "blosum62 = np.array ([\n",
    "    [4, -1, -2, -2, 0, -1, -1, 0, -2, -1, -1, -1, -1, -2, -1, 1, 0, -3, -2, 0],\n",
    "    [-1, 5, 0, -2, -3, 1, 0, -2, 0, -3, -2, 2, -1, -3, -2, -1, -1, -3, -2, -3],\n",
    "    [-2, 0, 6, 1, -3, 0, 0, 0, 1, -3, -3, 0, -2, -3, -2, 1, 0, -4, -2, -3],\n",
    "    [-2, -2, 1, 6, -3, 0, 2, -1, -1, -3, -4, -1, -3, -3, -1, 0, -1, -4, -3, -3],\n",
    "    [0, -3, -3, -3, 9, -3, -4, -3, -3, -1, -1, -3, -1, -2, -3, -1, -1, -2, -2, -1],\n",
    "    [-1, 1, 0, 0, -3, 5, 2, -2, 0, -3, -2, 1, 0, -3, -1, 0, -1, -2, -1, -2],\n",
    "    [-1, 0, 0, 2, -4, 2, 5, -2, 0, -3, -3, 1, -2, -3, -1, 0, -1, -3, -2, -2],\n",
    "    [0, -2, 0, -1, -3, -2, -2, 6, -2, -4, -4, -2, -3, -3, -2, 0, -2, -2, -3, -3],\n",
    "    [-2, 0, 1, -1, -3, 0, 0, -2, 8, -3, -3, -1, -2, -1, -2, -1, -2, -2, 2, -3],\n",
    "    [-1, -3, -3, -3, -1, -3, -3, -4, -3, 4, 2, -3, 1, 0, -3, -2, -1, -3, -1, 3],\n",
    "    [-1, -2, -3, -4, -1, -2, -3, -4, -3, 2, 4, -2, 2, 0, -3, -2, -1, -2, -1, 1],\n",
    "    [-1, 2, 0, -1, -3, 1, 1, -2, -1, -3, -2, 5, -1, -3, -1, 0, -1, -3, -2, -2],\n",
    "    [-1, -1, -2, -3, -1, 0, -2, -3, -2, 1, 2, -1, 5, 0, -2, -1, -1, -1, -1, 1],\n",
    "    [-2, -3, -3, -3, -2, -3, -3, -3, -1, 0, 0, -3, 0, 6, -4, -2, -2, 1, 3, -1],\n",
    "    [-1, -2, -2, -1, -3, -1, -1, -2, -2, -3, -3, -1, -2, -4, 7, -1, -1, -4, -3, -2],\n",
    "    [1, -1, 1, 0, -1, 0, 0, 0, -1, -2, -2, 0, -1, -2, -1, 4, 1, -3, -2, -2],\n",
    "    [0, -1, 0, -1, -1, -1, -1, -2, -2, -1, -1, -1, -1, -2, -1, 1, 5, -2, -2, 0],\n",
    "    [-3, -3, -4, -4, -2, -2, -3, -2, -2, -3, -2, -3, -1, 1, -4, -3, -2, 11, 2, -3],\n",
    "    [-2, -2, -2, -3, -2, -1, -2, -3, 2, -1, -1, -2, -1, 3, -3, -2, -2, 2, 7, -1],\n",
    "    [0, -3, -3, -3, -1, -2, -2, -3, -3, 3, 1, -2, 1, -1, -2, -2, 0, -3, -1, 4],\n",
    "])\n",
    "\n",
    "aminoacidos = ['A','R','N','D','C','Q','E','G','H','I','L','K','M','F','P','S','T','W','Y','V']\n",
    "\n",
    "matriz_blosum = pd.DataFrame(data=blosum62, columns=aminoacidos)\n",
    "matriz_blosum[''] = aminoacidos\n",
    "matriz_blosum.set_index('', inplace=True)\n",
    "matriz_blosum"
   ]
  },
  {
   "cell_type": "markdown",
   "metadata": {},
   "source": [
    "## Algoritmo de Needleman-Wunsch com penalidade"
   ]
  },
  {
   "cell_type": "code",
   "execution_count": 4,
   "metadata": {},
   "outputs": [],
   "source": [
    "def needleman_wunsch(seq_a, seq_b):\n",
    "    seq_a_alinhada = ''\n",
    "    seq_b_alinhada = ''\n",
    "    n_linhas = len(seq_b) + 1\n",
    "    n_colunas = len(seq_a) + 1\n",
    "    matriz_numerica = np.zeros((n_linhas, n_colunas), dtype=int)\n",
    "    matriz_resultante = np.zeros((n_linhas, n_colunas), dtype='<U10')\n",
    "    \n",
    "    for i in range(n_linhas):\n",
    "        for j in range(n_colunas):\n",
    "            \n",
    "            if i == 0 or j == 0:\n",
    "                matriz_resultante[i,j] = '0'\n",
    "                continue\n",
    "                \n",
    "            if seq_b[i-1] == seq_a[j-1] or matriz_blosum.loc[seq_a[j-1], seq_b[i-1]] >= 0:\n",
    "                matriz_numerica[i,j] = matriz_numerica[i-1,j-1] + matriz_blosum.loc[seq_a[j-1], seq_b[i-1]]\n",
    "                matriz_resultante[i,j] = np.str(matriz_numerica[i,j]) + '\\\\'\n",
    "                \n",
    "            elif matriz_numerica[i,j-1] > matriz_numerica[i-1,j]:\n",
    "                matriz_numerica[i,j] = matriz_numerica[i,j-1] + matriz_blosum.loc[seq_a[j-1], seq_b[i-1]]\n",
    "                matriz_resultante[i,j] = np.str(matriz_numerica[i,j]) + '_'\n",
    "                \n",
    "            else:\n",
    "                matriz_numerica[i,j] = matriz_numerica[i-1,j] + matriz_blosum.loc[seq_a[j-1], seq_b[i-1]]\n",
    "                matriz_resultante[i,j] = np.str(matriz_numerica[i,j]) + '|'\n",
    "            \n",
    "    resultado = pd.DataFrame(data=matriz_resultante, columns=list('*' + seq_a))\n",
    "    resultado[''] = list('*' + seq_b)\n",
    "    resultado.set_index('', inplace=True)\n",
    "    \n",
    "    while i != 0 or j != 0:\n",
    "        if resultado.iloc[i,j].count('\\\\'):\n",
    "            seq_a_alinhada = seq_a_alinhada + resultado.columns[j]\n",
    "            seq_b_alinhada = seq_b_alinhada + resultado.index[i]\n",
    "            i = i-1\n",
    "            j = j-1\n",
    "        if resultado.iloc[i,j].count('_') or (i == 0 and j > 0):\n",
    "            seq_a_alinhada = seq_a_alinhada + resultado.columns[j]\n",
    "            seq_b_alinhada = seq_b_alinhada + '-'\n",
    "            j = j-1\n",
    "        if resultado.iloc[i,j].count('|') or (j == 0 and i > 0):\n",
    "            seq_a_alinhada = seq_a_alinhada + '-'\n",
    "            seq_b_alinhada = seq_b_alinhada + resultado.index[i]\n",
    "            i = i-1\n",
    "    \n",
    "    return resultado, seq_a_alinhada[::-1], seq_b_alinhada[::-1]"
   ]
  },
  {
   "cell_type": "markdown",
   "metadata": {},
   "source": [
    "## Exemplo 1: Sequências pequenas e idênticas"
   ]
  },
  {
   "cell_type": "code",
   "execution_count": 5,
   "metadata": {},
   "outputs": [
    {
     "output_type": "stream",
     "name": "stdout",
     "text": [
      "DRQT\nDRQT\n"
     ]
    },
    {
     "output_type": "execute_result",
     "data": {
      "text/plain": [
       "   *    D    R    Q    T\n",
       "                        \n",
       "*  0    0    0    0    0\n",
       "D  0   6\\   4_   0\\  -1|\n",
       "R  0   4|  11\\   5\\   4_\n",
       "Q  0   0\\   5\\  16\\  15_\n",
       "T  0  -1|   4|  15|  21\\"
      ],
      "text/html": "<div>\n<style scoped>\n    .dataframe tbody tr th:only-of-type {\n        vertical-align: middle;\n    }\n\n    .dataframe tbody tr th {\n        vertical-align: top;\n    }\n\n    .dataframe thead th {\n        text-align: right;\n    }\n</style>\n<table border=\"1\" class=\"dataframe\">\n  <thead>\n    <tr style=\"text-align: right;\">\n      <th></th>\n      <th>*</th>\n      <th>D</th>\n      <th>R</th>\n      <th>Q</th>\n      <th>T</th>\n    </tr>\n    <tr>\n      <th></th>\n      <th></th>\n      <th></th>\n      <th></th>\n      <th></th>\n      <th></th>\n    </tr>\n  </thead>\n  <tbody>\n    <tr>\n      <th>*</th>\n      <td>0</td>\n      <td>0</td>\n      <td>0</td>\n      <td>0</td>\n      <td>0</td>\n    </tr>\n    <tr>\n      <th>D</th>\n      <td>0</td>\n      <td>6\\</td>\n      <td>4_</td>\n      <td>0\\</td>\n      <td>-1|</td>\n    </tr>\n    <tr>\n      <th>R</th>\n      <td>0</td>\n      <td>4|</td>\n      <td>11\\</td>\n      <td>5\\</td>\n      <td>4_</td>\n    </tr>\n    <tr>\n      <th>Q</th>\n      <td>0</td>\n      <td>0\\</td>\n      <td>5\\</td>\n      <td>16\\</td>\n      <td>15_</td>\n    </tr>\n    <tr>\n      <th>T</th>\n      <td>0</td>\n      <td>-1|</td>\n      <td>4|</td>\n      <td>15|</td>\n      <td>21\\</td>\n    </tr>\n  </tbody>\n</table>\n</div>"
     },
     "metadata": {},
     "execution_count": 5
    }
   ],
   "source": [
    "seq_a = 'DRQT'\n",
    "seq_b = 'DRQT'\n",
    "\n",
    "matriz, a_alinhado, b_alinhado = needleman_wunsch(seq_a, seq_b)\n",
    "\n",
    "print(a_alinhado)\n",
    "print(b_alinhado)\n",
    "matriz"
   ]
  },
  {
   "cell_type": "markdown",
   "metadata": {},
   "source": [
    "## Exemplo 2: Sequências pequenas com um mismatch"
   ]
  },
  {
   "cell_type": "code",
   "execution_count": 6,
   "metadata": {},
   "outputs": [
    {
     "output_type": "stream",
     "name": "stdout",
     "text": [
      "DRQT\nDRET\n"
     ]
    },
    {
     "output_type": "execute_result",
     "data": {
      "text/plain": [
       "   *   D    R    Q    T\n",
       "                       \n",
       "*  0   0    0    0    0\n",
       "D  0  6\\   4_   0\\  -1|\n",
       "R  0  4|  11\\   5\\   4_\n",
       "E  0  2\\   4\\  13\\  12_\n",
       "T  0  1|   3|  12|  18\\"
      ],
      "text/html": "<div>\n<style scoped>\n    .dataframe tbody tr th:only-of-type {\n        vertical-align: middle;\n    }\n\n    .dataframe tbody tr th {\n        vertical-align: top;\n    }\n\n    .dataframe thead th {\n        text-align: right;\n    }\n</style>\n<table border=\"1\" class=\"dataframe\">\n  <thead>\n    <tr style=\"text-align: right;\">\n      <th></th>\n      <th>*</th>\n      <th>D</th>\n      <th>R</th>\n      <th>Q</th>\n      <th>T</th>\n    </tr>\n    <tr>\n      <th></th>\n      <th></th>\n      <th></th>\n      <th></th>\n      <th></th>\n      <th></th>\n    </tr>\n  </thead>\n  <tbody>\n    <tr>\n      <th>*</th>\n      <td>0</td>\n      <td>0</td>\n      <td>0</td>\n      <td>0</td>\n      <td>0</td>\n    </tr>\n    <tr>\n      <th>D</th>\n      <td>0</td>\n      <td>6\\</td>\n      <td>4_</td>\n      <td>0\\</td>\n      <td>-1|</td>\n    </tr>\n    <tr>\n      <th>R</th>\n      <td>0</td>\n      <td>4|</td>\n      <td>11\\</td>\n      <td>5\\</td>\n      <td>4_</td>\n    </tr>\n    <tr>\n      <th>E</th>\n      <td>0</td>\n      <td>2\\</td>\n      <td>4\\</td>\n      <td>13\\</td>\n      <td>12_</td>\n    </tr>\n    <tr>\n      <th>T</th>\n      <td>0</td>\n      <td>1|</td>\n      <td>3|</td>\n      <td>12|</td>\n      <td>18\\</td>\n    </tr>\n  </tbody>\n</table>\n</div>"
     },
     "metadata": {},
     "execution_count": 6
    }
   ],
   "source": [
    "seq_a = 'DRQT'\n",
    "seq_b = 'DRET'\n",
    "\n",
    "matriz, a_alinhado, b_alinhado = needleman_wunsch(seq_a, seq_b)\n",
    "\n",
    "print(a_alinhado)\n",
    "print(b_alinhado)\n",
    "matriz"
   ]
  },
  {
   "cell_type": "markdown",
   "metadata": {},
   "source": [
    "## Exemplo 3: Sequências um pouco maiores e com tamanhos diferentes"
   ]
  },
  {
   "cell_type": "code",
   "execution_count": 7,
   "metadata": {},
   "outputs": [
    {
     "output_type": "stream",
     "name": "stdout",
     "text": [
      "DRQTAQAA--GT-TTIT\nDRNTAQ--LLGTD-T-T\n"
     ]
    },
    {
     "output_type": "execute_result",
     "data": {
      "text/plain": [
       "   *    D    R    Q    T    A    Q    A    A    G    T    T    T    I    T\n",
       "                                                                          \n",
       "*  0    0    0    0    0    0    0    0    0    0    0    0    0    0    0\n",
       "D  0   6\\   4_   0\\  -1|  -2|   0\\  -2|  -2|  -1|  -1|  -1|  -1|  -3|  -1|\n",
       "R  0   4|  11\\   5\\   4_   3_  -1\\  -2_  -3|  -3|  -2|  -2|  -2|  -5_  -2|\n",
       "N  0   1\\   4\\  11\\   5\\   3_   3\\   1_  -1_  -3\\  -3\\  -2\\  -2\\  -5_  -5\\\n",
       "T  0   0|   3|  10|  16\\   5\\   4_   3\\   1\\  -1_   2\\   2\\   3\\   2_   0\\\n",
       "A  0  -2|   2|   9|  10\\  20\\  19_   8\\   7\\   1\\  -1\\   2\\   2\\   1|   2\\\n",
       "Q  0   0\\  -1\\   7\\   9|  19|  25\\  24_  23_  21_  20_  19_  18_  15_  14_\n",
       "L  0  -4|  -3|   5|   8|  18|  23|  23|  22|  18_  19|  18|  17|  20\\  19_\n",
       "L  0  -4_  -5|   3|   7|  17|  21|  22|  21|  17_  18|  17|  16|  19\\  18|\n",
       "G  0  -1_  -3_   1|   5|   7\\  19|  21\\  22\\  27\\  25_  23_  21_  17_  16|\n",
       "T  0  -1_  -2_   0|   6\\   5\\  18|  19\\  21\\  25|  32\\  30\\  28\\  27_  22\\\n",
       "D  0   6\\   4_  -2\\   5|   3|   5\\  17|  19|  24|  31|  30_  29_  26_  25_\n",
       "T  0   5|   4_   3_   3\\   5\\   4|   5\\  17\\  22|  29\\  36\\  35\\  34_  31\\\n",
       "T  0   4|   3|   2|   8\\   3\\   3|   4\\   5\\  20|  27\\  34\\  41\\  40_  39\\"
      ],
      "text/html": "<div>\n<style scoped>\n    .dataframe tbody tr th:only-of-type {\n        vertical-align: middle;\n    }\n\n    .dataframe tbody tr th {\n        vertical-align: top;\n    }\n\n    .dataframe thead th {\n        text-align: right;\n    }\n</style>\n<table border=\"1\" class=\"dataframe\">\n  <thead>\n    <tr style=\"text-align: right;\">\n      <th></th>\n      <th>*</th>\n      <th>D</th>\n      <th>R</th>\n      <th>Q</th>\n      <th>T</th>\n      <th>A</th>\n      <th>Q</th>\n      <th>A</th>\n      <th>A</th>\n      <th>G</th>\n      <th>T</th>\n      <th>T</th>\n      <th>T</th>\n      <th>I</th>\n      <th>T</th>\n    </tr>\n    <tr>\n      <th></th>\n      <th></th>\n      <th></th>\n      <th></th>\n      <th></th>\n      <th></th>\n      <th></th>\n      <th></th>\n      <th></th>\n      <th></th>\n      <th></th>\n      <th></th>\n      <th></th>\n      <th></th>\n      <th></th>\n      <th></th>\n    </tr>\n  </thead>\n  <tbody>\n    <tr>\n      <th>*</th>\n      <td>0</td>\n      <td>0</td>\n      <td>0</td>\n      <td>0</td>\n      <td>0</td>\n      <td>0</td>\n      <td>0</td>\n      <td>0</td>\n      <td>0</td>\n      <td>0</td>\n      <td>0</td>\n      <td>0</td>\n      <td>0</td>\n      <td>0</td>\n      <td>0</td>\n    </tr>\n    <tr>\n      <th>D</th>\n      <td>0</td>\n      <td>6\\</td>\n      <td>4_</td>\n      <td>0\\</td>\n      <td>-1|</td>\n      <td>-2|</td>\n      <td>0\\</td>\n      <td>-2|</td>\n      <td>-2|</td>\n      <td>-1|</td>\n      <td>-1|</td>\n      <td>-1|</td>\n      <td>-1|</td>\n      <td>-3|</td>\n      <td>-1|</td>\n    </tr>\n    <tr>\n      <th>R</th>\n      <td>0</td>\n      <td>4|</td>\n      <td>11\\</td>\n      <td>5\\</td>\n      <td>4_</td>\n      <td>3_</td>\n      <td>-1\\</td>\n      <td>-2_</td>\n      <td>-3|</td>\n      <td>-3|</td>\n      <td>-2|</td>\n      <td>-2|</td>\n      <td>-2|</td>\n      <td>-5_</td>\n      <td>-2|</td>\n    </tr>\n    <tr>\n      <th>N</th>\n      <td>0</td>\n      <td>1\\</td>\n      <td>4\\</td>\n      <td>11\\</td>\n      <td>5\\</td>\n      <td>3_</td>\n      <td>3\\</td>\n      <td>1_</td>\n      <td>-1_</td>\n      <td>-3\\</td>\n      <td>-3\\</td>\n      <td>-2\\</td>\n      <td>-2\\</td>\n      <td>-5_</td>\n      <td>-5\\</td>\n    </tr>\n    <tr>\n      <th>T</th>\n      <td>0</td>\n      <td>0|</td>\n      <td>3|</td>\n      <td>10|</td>\n      <td>16\\</td>\n      <td>5\\</td>\n      <td>4_</td>\n      <td>3\\</td>\n      <td>1\\</td>\n      <td>-1_</td>\n      <td>2\\</td>\n      <td>2\\</td>\n      <td>3\\</td>\n      <td>2_</td>\n      <td>0\\</td>\n    </tr>\n    <tr>\n      <th>A</th>\n      <td>0</td>\n      <td>-2|</td>\n      <td>2|</td>\n      <td>9|</td>\n      <td>10\\</td>\n      <td>20\\</td>\n      <td>19_</td>\n      <td>8\\</td>\n      <td>7\\</td>\n      <td>1\\</td>\n      <td>-1\\</td>\n      <td>2\\</td>\n      <td>2\\</td>\n      <td>1|</td>\n      <td>2\\</td>\n    </tr>\n    <tr>\n      <th>Q</th>\n      <td>0</td>\n      <td>0\\</td>\n      <td>-1\\</td>\n      <td>7\\</td>\n      <td>9|</td>\n      <td>19|</td>\n      <td>25\\</td>\n      <td>24_</td>\n      <td>23_</td>\n      <td>21_</td>\n      <td>20_</td>\n      <td>19_</td>\n      <td>18_</td>\n      <td>15_</td>\n      <td>14_</td>\n    </tr>\n    <tr>\n      <th>L</th>\n      <td>0</td>\n      <td>-4|</td>\n      <td>-3|</td>\n      <td>5|</td>\n      <td>8|</td>\n      <td>18|</td>\n      <td>23|</td>\n      <td>23|</td>\n      <td>22|</td>\n      <td>18_</td>\n      <td>19|</td>\n      <td>18|</td>\n      <td>17|</td>\n      <td>20\\</td>\n      <td>19_</td>\n    </tr>\n    <tr>\n      <th>L</th>\n      <td>0</td>\n      <td>-4_</td>\n      <td>-5|</td>\n      <td>3|</td>\n      <td>7|</td>\n      <td>17|</td>\n      <td>21|</td>\n      <td>22|</td>\n      <td>21|</td>\n      <td>17_</td>\n      <td>18|</td>\n      <td>17|</td>\n      <td>16|</td>\n      <td>19\\</td>\n      <td>18|</td>\n    </tr>\n    <tr>\n      <th>G</th>\n      <td>0</td>\n      <td>-1_</td>\n      <td>-3_</td>\n      <td>1|</td>\n      <td>5|</td>\n      <td>7\\</td>\n      <td>19|</td>\n      <td>21\\</td>\n      <td>22\\</td>\n      <td>27\\</td>\n      <td>25_</td>\n      <td>23_</td>\n      <td>21_</td>\n      <td>17_</td>\n      <td>16|</td>\n    </tr>\n    <tr>\n      <th>T</th>\n      <td>0</td>\n      <td>-1_</td>\n      <td>-2_</td>\n      <td>0|</td>\n      <td>6\\</td>\n      <td>5\\</td>\n      <td>18|</td>\n      <td>19\\</td>\n      <td>21\\</td>\n      <td>25|</td>\n      <td>32\\</td>\n      <td>30\\</td>\n      <td>28\\</td>\n      <td>27_</td>\n      <td>22\\</td>\n    </tr>\n    <tr>\n      <th>D</th>\n      <td>0</td>\n      <td>6\\</td>\n      <td>4_</td>\n      <td>-2\\</td>\n      <td>5|</td>\n      <td>3|</td>\n      <td>5\\</td>\n      <td>17|</td>\n      <td>19|</td>\n      <td>24|</td>\n      <td>31|</td>\n      <td>30_</td>\n      <td>29_</td>\n      <td>26_</td>\n      <td>25_</td>\n    </tr>\n    <tr>\n      <th>T</th>\n      <td>0</td>\n      <td>5|</td>\n      <td>4_</td>\n      <td>3_</td>\n      <td>3\\</td>\n      <td>5\\</td>\n      <td>4|</td>\n      <td>5\\</td>\n      <td>17\\</td>\n      <td>22|</td>\n      <td>29\\</td>\n      <td>36\\</td>\n      <td>35\\</td>\n      <td>34_</td>\n      <td>31\\</td>\n    </tr>\n    <tr>\n      <th>T</th>\n      <td>0</td>\n      <td>4|</td>\n      <td>3|</td>\n      <td>2|</td>\n      <td>8\\</td>\n      <td>3\\</td>\n      <td>3|</td>\n      <td>4\\</td>\n      <td>5\\</td>\n      <td>20|</td>\n      <td>27\\</td>\n      <td>34\\</td>\n      <td>41\\</td>\n      <td>40_</td>\n      <td>39\\</td>\n    </tr>\n  </tbody>\n</table>\n</div>"
     },
     "metadata": {},
     "execution_count": 7
    }
   ],
   "source": [
    "seq_a = 'DRQTAQAAGTTTIT'\n",
    "seq_b = 'DRNTAQLLGTDTT'\n",
    "\n",
    "matriz, a_alinhado, b_alinhado = needleman_wunsch(seq_a, seq_b)\n",
    "\n",
    "print(a_alinhado)\n",
    "print(b_alinhado)\n",
    "matriz"
   ]
  },
  {
   "cell_type": "markdown",
   "metadata": {},
   "source": [
    "## Exemplo 4: Sequências reais (proteínas Spike do SARS-CoV-2)\n",
    "Nesse exemplo não exibimos a matriz resultante devido ao tamanho. Nota-se, também, que para esse tamanho de entrada o algoritmo demora vários segundos para terminar a execução."
   ]
  },
  {
   "cell_type": "code",
   "execution_count": 8,
   "metadata": {},
   "outputs": [
    {
     "output_type": "stream",
     "name": "stdout",
     "text": [
      "-----MLFVFIL-FLPSCL-GY--IG-DF--R--CIQT-VNYNGN--NASA-PSISTEA-VDVSK--GLGTY-YVL-D-RVYL-NA-TLLLTGY---YPV---D-GS-NYRNL-ALTGTN-TL-SLTWFKPP---FLSEF-NDGI--FAK---VQ-----NLKT-N---TP-TGAT--SY-FPTIVIGSLF--GN-T--------SYT-VVLEP--Y-NNIIM-A-SVCTYTIC-QL-P----YTPCKPNTNGNR-VIGF--WHTDVKPP-I--CLLKR--NFTFNVNAP-WLY--F-HFYQ-QGG-TFY-AY-Y--A-DKP--S--A-T-TF-----LF-S-VY--I--GDILTQYF-VLP-F--I---CT--P-T--A--G--STLLPLYWVTPL-L-K-RQ---YLFNFN-EKGV-IT-S-AVDCA-SSYISEIK-CKT-QSL-LPSTGVYDLSGYT-VQP-V-GVVYRRVP-NLPDCKIE-E-WLTA-KSVPSP-L-NWERR-TF-QNCNFNLSSLLR--YVQAESLSCNNID-ASKVYGM--CFGS-VSVDK-FAI-PR-S-RQIDLQIGNSG-FL-QTA-NYKIDTA-AT-SCQLYY---SLPKNN-VTINNYNPSSWNRRYGFNDAGVFGKSKHDVAYAQQCFIVRPSYCPCAQPDIVSACTSQT-KPMSAYCPTGTIHRECSLWNGPHLRSARVGSG-TYT-C-EC-TCKPNP--F-DT--YDL-RCG-QIKT-IVNVGDHCEGLG-VL-EDKCGNSDPHKGC-S-CAHDSF-IGWSHD-TCLVNDHSQIFANILLNG-INSGTTCST-D-LQL-P-NTEVAT--GV-CVRYDLYGITGQGVFKE---VKADY-YNSWQA-LLYDV-NGNLN-GFR--DLTT--N-KTYT-IRSC-YS--GRVSA-AY-HKEAPEP--AL-LYR-NI-NCSYV-F-T-NN-ISRE-ENP-L-----NY--FDS-YLGCVVN-ADNRPD---EALPNCD-LR-MG-AGL-CV-DYSK-SRRAR---RSV-ST-G-Y-RL-T-TFEPYMPML-VNDSVQSVG-GLYEMQIPTNFTIGHH--EEFIQ--IRAPKVTIDC-AA-FVC-G-DNAACRQQLV-EYGSFCDNV-NAILNE-VNNL-L-DNMQL-QV-ASA-LM--QGVT-ISSRLPDGISGPIDDINFSPLL-G-CIGS-TCAEDGNGPS-AMRGRSAIEDLLFDKVK-LSD-VGFVEAYNNCT---G-GQEVRDLLCVQ--SFNG-IKVLPPVLSE-S-QISGY-TA--GA-TAAAMFPP-W-T--AA-AGVPFSL-NV-QYRINGLGVTMNVLSENQKMIASA-FNNALGAIQ-EGF-DATNSAL-GKIQSVVNA-NAEALNNL-LNQLSNR-FGAISASLQ-EILT-RLDR-VEAK-AQIDRLINGRLTALNAYISKQ-L-SDSTLIK-FSA--AQAIEKVNECVKSQTT-R-INFCGNGNHILS-LVQNAP-YGLC-FIHF-SYV-PTS-FKTANVSP--GLCI-SGD--RG-LAPKA-GYFVQD-NG-----EWKFTGSNYYY-PEPITDKN-SV--VMISCA--VNY----TKA-PE--VFLNNSIP-NLPDFKEELDKWFKN-QTSIAPDL-SL-DFEKLNVTFLDLTYE-MNRIQDAIK-KLNESYINLKEVGTYEM-YV--KWPWYVWL-LI-GLAGVAVCVLLFFIC-CCTGCGSC-CF-R-KCGS-CCDEYGGHQDSIVIYNISA-HED----\n\nMIHSVFLLMFLLT--PT--ESYVDVGPD-SVKSACIEVDIQ-Q-TFFD-KTWP----R-PIDVSKADGI---IY--PQGRTY-SN-IT--IT-YQGLFP-YQGDHGDM-Y--VYS-AG-HAT-GT-T----PQKLFVANYSQD-VKQFANGFVVRIGAAAN-STGTVIISPSTSATIRK-IYPAFMLGS--SVGNFSDGKMGRFFNHTLVLL-PDG-CGT-LLRAF----Y--CI-LEPRSGNH--C-P-AGNS-YT-SFATYH--T--PA-TDC--S-DGNYN-R-NA-S-L-NSFKEYFNLR-NCT-FM-YTYNITEDE-ILEWFGITQT-AQGVHLFSSR-YVDLYGGNMF-Q-FATLPVYDTIKYY-SIIPHSIRSIQSDRKA-----WAA-FYVYKL-QPLTFLLDFSVD-G-YI-R-RAIDCGFND-LSQL-HC-SYESFDV-ESGVYSVSSF-EAKPS-GSVV-EQA-EGV-EC--DFSP-L--LSGTP-PQVYNF-KRLVFT-NCNYNLTKLL-SLF-SVNDFTCSQISPAA-I-A-SNCYSSLI-LD-YFS-YP-LSMKS-DLSVSSAGP-ISQ--FNYK-Q-SFSNPTC-L--ILATVP-HNLTTI-T-KP--------------L---K----Y--S-Y-IN-K---CSR--LL----SD-DR---------T-----EV---PQL----VNANQ-YSPCVS-IV--PS-TVWED-GDY--YR--KQL-SP-LE-G----G-GWLVA--S-GST------VAM-T-EQLQMGFG--IT--V----Q-Y------GT-DTNSVC--P-KLEFA-NDTKIASQLG-NCVEYSLYGVSGRGVFQNCTAV-G--V-RQ-Q-RFVYDAYQ-NL-VGY-YSD---DGNY--Y-CLRACV-SVP--VSVI-YD-KET-K-THA-TLF-GSVA-CEHIS-STMSQY-SRSTRS-MLKRRDSTYGPLQTP-VGCVLGLVNS--SLFVE---DC-KL-PLGQ-SLCALPD-T-PS--T-LTPRSVRSVPGE-MRLASIAFN-H-P-IQV-DQLNS-SY--FKLSIPTNFSFG--VTQEYIQTTIQ--KVTVDCK--QYVCNGFQK--C-EQLLREYGQFCSKINQA-L-HGA-NLR-QDD-SVRNLFASVK--SSQS-SPI---IP-GFGG---DFNLT-LLE-P-V-SI-----STG-SRS--ARSAIEDLLFDKV-TIADP-GYMQGYDDC-MQQGPA-SARDLICAQYVA--GY-KVLPPLM-DVNME-AAYTSSLLGSI--AGV---GWTAGLSSFAAIPFA-QSIF-YRLNGVGITQQVLSENQKLIAN-KFNQALGAMQT-GFT-TTNEAFR-KVQDAVN-NNAQALSKLA-SEL-SNTFGAISASI-GDII-QRLD-VLE-QDAQIDRLINGRLTTLNAFVAQQLVRSESA---ALSAQLAK--DKVNECVKAQ-SKRS-GFCGQGTHIVSFVV-NAPN-GL-YFMH-VGY-YPSNHIE-V-VS-AYGLC-DAANPT-NCIAP-VNGYFIK-TNNTRIVDEWSYTGSS-FYAPEPIT--SLNTKY--V--APQVTYQNISTN-LP-PP-LLGNS--TGI-DFQDELDEFFKNVSTSI-PNFGSLT---QINTTLLDLTYEMLS-LQQVVKA-LNESYIDLKELGNY--TY-YNKWPWYIWLGFIAGLVALALC--VFFI-LCCTGCGT-NCMGKLKC-NRCCDR---Y-EE---YDLE-PHK-VHVH\n"
     ]
    }
   ],
   "source": [
    "seq_a = ('MLFVFILFLPSCLGYIGDFRCIQTVNYNGNNASAPSISTEAVDVSKGLGTYYVLDRVYLN'\n",
    "        'ATLLLTGYYPVDGSNYRNLALTGTNTLSLTWFKPPFLSEFNDGIFAKVQNLKTNTPTGAT'\n",
    "        'SYFPTIVIGSLFGNTSYTVVLEPYNNIIMASVCTYTICQLPYTPCKPNTNGNRVIGFWHT'\n",
    "        'DVKPPICLLKRNFTFNVNAPWLYFHFYQQGGTFYAYYADKPSATTFLFSVYIGDILTQYF'\n",
    "        'VLPFICTPTAGSTLLPLYWVTPLLKRQYLFNFNEKGVITSAVDCASSYISEIKCKTQSLL'\n",
    "        'PSTGVYDLSGYTVQPVGVVYRRVPNLPDCKIEEWLTAKSVPSPLNWERRTFQNCNFNLSS'\n",
    "        'LLRYVQAESLSCNNIDASKVYGMCFGSVSVDKFAIPRSRQIDLQIGNSGFLQTANYKIDT'\n",
    "        'AATSCQLYYSLPKNNVTINNYNPSSWNRRYGFNDAGVFGKSKHDVAYAQQCFIVRPSYCP'\n",
    "        'CAQPDIVSACTSQTKPMSAYCPTGTIHRECSLWNGPHLRSARVGSGTYTCECTCKPNPFD'\n",
    "        'TYDLRCGQIKTIVNVGDHCEGLGVLEDKCGNSDPHKGCSCAHDSFIGWSHDTCLVNDHSQ'\n",
    "        'IFANILLNGINSGTTCSTDLQLPNTEVATGVCVRYDLYGITGQGVFKEVKADYYNSWQAL'\n",
    "        'LYDVNGNLNGFRDLTTNKTYTIRSCYSGRVSAAYHKEAPEPALLYRNINCSYVFTNNISR'\n",
    "        'EENPLNYFDSYLGCVVNADNRPDEALPNCDLRMGAGLCVDYSKSRRARRSVSTGYRLTTF'\n",
    "        'EPYMPMLVNDSVQSVGGLYEMQIPTNFTIGHHEEFIQIRAPKVTIDCAAFVCGDNAACRQ'\n",
    "        'QLVEYGSFCDNVNAILNEVNNLLDNMQLQVASALMQGVTISSRLPDGISGPIDDINFSPL'\n",
    "        'LGCIGSTCAEDGNGPSAMRGRSAIEDLLFDKVKLSDVGFVEAYNNCTGGQEVRDLLCVQS'\n",
    "        'FNGIKVLPPVLSESQISGYTAGATAAAMFPPWTAAAGVPFSLNVQYRINGLGVTMNVLSE'\n",
    "        'NQKMIASAFNNALGAIQEGFDATNSALGKIQSVVNANAEALNNLLNQLSNRFGAISASLQ'\n",
    "        'EILTRLDRVEAKAQIDRLINGRLTALNAYISKQLSDSTLIKFSAAQAIEKVNECVKSQTT'\n",
    "        'RINFCGNGNHILSLVQNAPYGLCFIHFSYVPTSFKTANVSPGLCISGDRGLAPKAGYFVQ'\n",
    "        'DNGEWKFTGSNYYYPEPITDKNSVVMISCAVNYTKAPEVFLNNSIPNLPDFKEELDKWFK'\n",
    "        'NQTSIAPDLSLDFEKLNVTFLDLTYEMNRIQDAIKKLNESYINLKEVGTYEMYVKWPWYV'\n",
    "        'WLLIGLAGVAVCVLLFFICCCTGCGSCCFRKCGSCCDEYGGHQDSIVIYNISAHED')\n",
    "        \n",
    "seq_b = ('MIHSVFLLMFLLTPTESYVDVGPDSVKSACIEVDIQQTFFDKTWPRPIDVSKADGIIYPQ'\n",
    "        'GRTYSNITITYQGLFPYQGDHGDMYVYSAGHATGTTPQKLFVANYSQDVKQFANGFVVRI'\n",
    "        'GAAANSTGTVIISPSTSATIRKIYPAFMLGSSVGNFSDGKMGRFFNHTLVLLPDGCGTLL'\n",
    "        'RAFYCILEPRSGNHCPAGNSYTSFATYHTPATDCSDGNYNRNASLNSFKEYFNLRNCTFM'\n",
    "        'YTYNITEDEILEWFGITQTAQGVHLFSSRYVDLYGGNMFQFATLPVYDTIKYYSIIPHSI'\n",
    "        'RSIQSDRKAWAAFYVYKLQPLTFLLDFSVDGYIRRAIDCGFNDLSQLHCSYESFDVESGV'\n",
    "        'YSVSSFEAKPSGSVVEQAEGVECDFSPLLSGTPPQVYNFKRLVFTNCNYNLTKLLSLFSV'\n",
    "        'NDFTCSQISPAAIASNCYSSLILDYFSYPLSMKSDLSVSSAGPISQFNYKQSFSNPTCLI'\n",
    "        'LATVPHNLTTITKPLKYSYINKCSRLLSDDRTEVPQLVNANQYSPCVSIVPSTVWEDGDY'\n",
    "        'YRKQLSPLEGGGWLVASGSTVAMTEQLQMGFGITVQYGTDTNSVCPKLEFANDTKIASQL'\n",
    "        'GNCVEYSLYGVSGRGVFQNCTAVGVRQQRFVYDAYQNLVGYYSDDGNYYCLRACVSVPVS'\n",
    "        'VIYDKETKTHATLFGSVACEHISSTMSQYSRSTRSMLKRRDSTYGPLQTPVGCVLGLVNS'\n",
    "        'SLFVEDCKLPLGQSLCALPDTPSTLTPRSVRSVPGEMRLASIAFNHPIQVDQLNSSYFKL'\n",
    "        'SIPTNFSFGVTQEYIQTTIQKVTVDCKQYVCNGFQKCEQLLREYGQFCSKINQALHGANL'\n",
    "        'RQDDSVRNLFASVKSSQSSPIIPGFGGDFNLTLLEPVSISTGSRSARSAIEDLLFDKVTI'\n",
    "        'ADPGYMQGYDDCMQQGPASARDLICAQYVAGYKVLPPLMDVNMEAAYTSSLLGSIAGVGW'\n",
    "        'TAGLSSFAAIPFAQSIFYRLNGVGITQQVLSENQKLIANKFNQALGAMQTGFTTTNEAFR'\n",
    "        'KVQDAVNNNAQALSKLASELSNTFGAISASIGDIIQRLDVLEQDAQIDRLINGRLTTLNA'\n",
    "        'FVAQQLVRSESAALSAQLAKDKVNECVKAQSKRSGFCGQGTHIVSFVVNAPNGLYFMHVG'\n",
    "        'YYPSNHIEVVSAYGLCDAANPTNCIAPVNGYFIKTNNTRIVDEWSYTGSSFYAPEPITSL'\n",
    "        'NTKYVAPQVTYQNISTNLPPPLLGNSTGIDFQDELDEFFKNVSTSIPNFGSLTQINTTLL'\n",
    "        'DLTYEMLSLQQVVKALNESYIDLKELGNYTYYNKWPWYIWLGFIAGLVALALCVFFILCC'\n",
    "        'TGCGTNCMGKLKCNRCCDRYEEYDLEPHKVHVH')\n",
    "\n",
    "matriz, a_alinhado, b_alinhado = needleman_wunsch(seq_a, seq_b)\n",
    "\n",
    "print(a_alinhado)\n",
    "print()\n",
    "print(b_alinhado)"
   ]
  },
  {
   "cell_type": "code",
   "execution_count": 9,
   "metadata": {},
   "outputs": [],
   "source": [
    "seq_orig = 'MLFVFILFLPSCLGYIGDFRCIQTVNYNGNNASAPSISTEAVDVSKGLGTYYVLDRVYLNATLLLTGYYPVDGSNYRNLALTGTNTLSLTWFKPPFLSEFNDGIFAKVQNLKTNTPTGATSYFPTIVIGSLFGNTSYTVVLEPYNNIIMASVCTYTICQLPYTPCKPNTNGNRVIGFWHTDVKPPICLLKRNFTFNVNAPWLYFHFYQQGGTFYAYYADKPSATTFLFSVYIGDILTQYFVLPFICTPTAGSTLLPLYWVTPLLKRQYLFNFNEKGVITSAVDCASSYISEIKCKTQSLLPSTGVYDLSGYTVQPVGVVYRRVPNLPDCKIEEWLTAKSVPSPLNWERRTFQNCNFNLSSLLRYVQAESLSCNNIDASKVYGMCFGSVSVDKFAIPRSRQIDLQIGNSGFLQTANYKIDTAATSCQLYYSLPKNNVTINNYNPSSWNRRYGFNDAGVFGKSKHDVAYAQQCFIVRPSYCPCAQPDIVSACTSQTKPMSAYCPTGTIHRECSLWNGPHLRSARVGSGTYTCECTCKPNPFDTYDLRCGQIKTIVNVGDHCEGLGVLEDKCGNSDPHKGCSCAHDSFIGWSHDTCLVNDHSQIFANILLNGINSGTTCSTDLQLPNTEVATGVCVRYDLYGITGQGVFKEVKADYYNSWQALLYDVNGNLNGFRDLTTNKTYTIRSCYSGRVSAAYHKEAPEPALLYRNINCSYVFTNNISREENPLNYFDSYLGCVVNADNRPDEALPNCDLRMGAGLCVDYSKSRRARRSVSTGYRLTTFEPYMPMLVNDSVQSVGGLYEMQIPTNFTIGHHEEFIQIRAPKVTIDCAAFVCGDNAACRQQLVEYGSFCDNVNAILNEVNNLLDNMQLQVASALMQGVTISSRLPDGISGPIDDINFSPLLGCIGSTCAEDGNGPSAMRGRSAIEDLLFDKVKLSDVGFVEAYNNCTGGQEVRDLLCVQSFNGIKVLPPVLSESQISGYTAGATAAAMFPPWTAAAGVPFSLNVQYRINGLGVTMNVLSENQKMIASAFNNALGAIQEGFDATNSALGKIQSVVNANAEALNNLLNQLSNRFGAISASLQEILTRLDRVEAKAQIDRLINGRLTALNAYISKQLSDSTLIKFSAAQAIEKVNECVKSQTTRINFCGNGNHILSLVQNAPYGLCFIHFSYVPTSFKTANVSPGLCISGDRGLAPKAGYFVQDNGEWKFTGSNYYYPEPITDKNSVVMISCAVNYTKAPEVFLNNSIPNLPDFKEELDKWFKNQTSIAPDLSLDFEKLNVTFLDLTYEMNRIQDAIKKLNESYINLKEVGTYEMYVKWPWYVWLLIGLAGVAVCVLLFFICCCTGCGSCCFRKCGSCCDEYGGHQDSIVIYNISAHED'\n",
    "\n",
    "seq_comp = [ 'MIHSVFLLMFLLTPTESYVDVGPDSVKSACIEVDIQQTFFDKTWPRPIDVSKADGIIYPQGRTYSNITITYQGLFPYQGDHGDMYVYSAGHATGTTPQKLFVANYSQDVKQFANGFVVRIGAAANSTGTVIISPSTSATIRKIYPAFMLGSSVGNFSDGKMGRFFNHTLVLLPDGCGTLLRAFYCILEPRSGNHCPAGNSYTSFATYHTPATDCSDGNYNRNASLNSFKEYFNLRNCTFMYTYNITEDEILEWFGITQTAQGVHLFSSRYVDLYGGNMFQFATLPVYDTIKYYSIIPHSIRSIQSDRKAWAAFYVYKLQPLTFLLDFSVDGYIRRAIDCGFNDLSQLHCSYESFDVESGVYSVSSFEAKPSGSVVEQAEGVECDFSPLLSGTPPQVYNFKRLVFTNCNYNLTKLLSLFSVNDFTCSQISPAAIASNCYSSLILDYFSYPLSMKSDLSVSSAGPISQFNYKQSFSNPTCLILATVPHNLTTITKPLKYSYINKCSRLLSDDRTEVPQLVNANQYSPCVSIVPSTVWEDGDYYRKQLSPLEGGGWLVASGSTVAMTEQLQMGFGITVQYGTDTNSVCPKLEFANDTKIASQLGNCVEYSLYGVSGRGVFQNCTAVGVRQQRFVYDAYQNLVGYYSDDGNYYCLRACVSVPVSVIYDKETKTHATLFGSVACEHISSTMSQYSRSTRSMLKRRDSTYGPLQTPVGCVLGLVNSSLFVEDCKLPLGQSLCALPDTPSTLTPRSVRSVPGEMRLASIAFNHPIQVDQLNSSYFKLSIPTNFSFGVTQEYIQTTIQKVTVDCKQYVCNGFQKCEQLLREYGQFCSKINQALHGANLRQDDSVRNLFASVKSSQSSPIIPGFGGDFNLTLLEPVSISTGSRSARSAIEDLLFDKVTIADPGYMQGYDDCMQQGPASARDLICAQYVAGYKVLPPLMDVNMEAAYTSSLLGSIAGVGWTAGLSSFAAIPFAQSIFYRLNGVGITQQVLSENQKLIANKFNQALGAMQTGFTTTNEAFRKVQDAVNNNAQALSKLASELSNTFGAISASIGDIIQRLDVLEQDAQIDRLINGRLTTLNAFVAQQLVRSESAALSAQLAKDKVNECVKAQSKRSGFCGQGTHIVSFVVNAPNGLYFMHVGYYPSNHIEVVSAYGLCDAANPTNCIAPVNGYFIKTNNTRIVDEWSYTGSSFYAPEPITSLNTKYVAPQVTYQNISTNLPPPLLGNSTGIDFQDELDEFFKNVSTSIPNFGSLTQINTTLLDLTYEMLSLQQVVKALNESYIDLKELGNYTYYNKWPWYIWLGFIAGLVALALCVFFILCCTGCGTNCMGKLKCNRCCDRYEEYDLEPHKVHVH',\n",
    "'MFVFLVLLPLVSSQCVNLTTRTQLPPAYTNSFTRGVYYPDKVFRSSVLHSTQDLFLPFFSNVTWFHAIHVSGTNGTKRFDNPVLPFNDGVYFASTEKSNIIRGWIFGTTLDSKTQSLLIVNNATNVVIKVCEFQFCNDPFLGVYYHKNNKSWMESEFRVYSSANNCTFEYVSQPFLMDLEGKQGNFKNLREFVFKNIDGYFKIYSKHTPINLVRDLPQGFSALEPLVDLPIGINITRFQTLLALHRSYLTPGDSSSGWTAGAAAYYVGYLQPRTFLLKYNENGTITDAVDCALDPLSETKCTLKSFTVEKGIYQTSNFRVQPTESIVRFPNITNLCPFGEVFNATRFASVYAWNRKRISNCVADYSVLYNSASFSTFKCYGVSPTKLNDLCFTNVYADSFVIRGDEVRQIAPGQTGKIADYNYKLPDDFTGCVIAWNSNNLDSKVGGNYNYLYRLFRKSNLKPFERDISTEIYQAGSTPCNGVEGFNCYFPLQSYGFQPTNGVGYQPYRVVVLSFELLHAPATVCGPKKSTNLVKNKCVNFNFNGLTGTGVLTESNKKFLPFQQFGRDIADTTDAVRDPQTLEILDITPCSFGGVSVITPGTNTSNQVAVLYQDVNCTEVPVAIHADQLTPTWRVYSTGSNVFQTRAGCLIGAEHVNNSYECDIPIGAGICASYQTQTNSPRRARSVASQSIIAYTMSLGAENSVAYSNNSIAIPTNFTISVTTEILPVSMTKTSVDCTMYICGDSTECSNLLLQYGSFCTQLNRALTGIAVEQDKNTQEVFAQVKQIYKTPPIKDFGGFNFSQILPDPSKPSKRSFIEDLLFNKVTLADAGFIKQYGDCLGDIAARDLICAQKFNGLTVLPPLLTDEMIAQYTSALLAGTITSGWTFGAGAALQIPFAMQMAYRFNGIGVTQNVLYENQKLIANQFNSAIGKIQDSLSSTASALGKLQDVVNQNAQALNTLVKQLSSNFGAISSVLNDILSRLDKVEAEVQIDRLITGRLQSLQTYVTQQLIRAAEIRASANLAATKMSECVLGQSKRVDFCGKGYHLMSFPQSAPHGVVFLHVTYVPAQEKNFTTAPAICHDGKAHFPREGVFVSNGTHWFVTQRNFYEPQIITTDNTFVSGNCDVVIGIVNNTVYDPLQPELDSFKEELDKYFKNHTSPDVDLGDISGINASVVNIQKEIDRLNEVAKNLNESLIDLQELGKYEQYIKWPWYIWLGFIAGLIAIVMVTIMLCCMTSCCSCLKGCCSCGSCCKFDEDDSEPVLKGVKLHYT',\n",
    "'MFIFLLFLTLTSGSDLDRCTTFDDVQAPNYTQHTSSMRGVYYPDEIFRSDTLYLTQDLFLPFYSNVTGFHTINHTFGNPVIPFKDGIYFAATEKSNVVRGWVFGSTMNNKSQSVIIINNSTNVVIRACNFELCDNPFFAVSKPMGTQTHTMIFDNAFNCTFEYISDAFSLDVSEKSGNFKHLREFVFKNKDGFLYVYKGYQPIDVVRDLPSGFNTLKPIFKLPLGINITNFRAILTAFSPAQDIWGTSAAAYFVGYLKPTTFMLKYDENGTITDAVDCSQNPLAELKCSVKSFEIDKGIYQTSNFRVVPSGDVVRFPNITNLCPFGEVFNATKFPSVYAWERKKISNCVADYSVLYNSTFFSTFKCYGVSATKLNDLCFSNVYADSFVVKGDDVRQIAPGQTGVIADYNYKLPDDFMGCVLAWNTRNIDATSTGNYNYKYRYLRHGKLRPFERDISNVPFSPDGKPCTPPALNCYWPLNDYGFYTTTGIGYQPYRVVVLSFELLNAPATVCGPKLSTDLIKNQCVNFNFNGLTGTGVLTPSSKRFQPFQQFGRDVSDFTDSVRDPKTSEILDISPCSFGGVSVITPGTNASSEVAVLYQDVNCTDVSTAIHADQLTPAWRIYSTGNNVFQTQAGCLIGAEHVDTSYECDIPIGAGICASYHTVSLLRSTSQKSIVAYTMSLGADSSIAYSNNTIAIPTNFSISITTEVMPVSMAKTSVDCNMYICGDSTECANLLLQYGSFCTQLNRALSGIAAEQDRNTREVFAQVKQMYKTPTLKYFGGFNFSQILPDPLKPTKRSFIEDLLFNKVTLADAGFMKQYGECLGDINARDLICAQKFNGLTVLPPLLTDDMIAAYTAALVSGTATAGWTFGAGAALQIPFAMQMAYRFNGIGVTQNVLYENQKQIANQFNKAISQIQESLTTTSTALGKLQDVVNQNAQALNTLVKQLSSNFGAISSVLNDILSRLDKVEAEVQIDRLITGRLQSLQTYVTQQLIRAAEIRASANLAATKMSECVLGQSKRVDFCGKGYHLMSFPQAAPHGVVFLHVTYVPSQERNFTTAPAICHEGKAYFPREGVFVFNGTSWFITQRNFFSPQIITTDNTFVSGNCDVVIGIINNTVYDPLQPELDSFKEELDKYFKNHTSPDVDLGDISGINASVVNIQKEIDRLNEVAKNLNESLIDLQELGKYEQYIKWPWYVWLGFIAGLIAIVMVTILLCCMTSCCSCLKGACSCGSCCKFDEDDSEPVLKGVKLHYT',\n",
    "'MLFVFILFLPSCLGYIGDFRCIQLVNSNGANVSAPSISTETVEVSQGLGTYYVLDRVYLNATLLLTGYYPVDGSKFRNLALRGTNSVSLSWFQPPYLNQFNDGIFAKVQNLKTSTPSGATAYFPTIVIGSLFGYTSYTVVIEPYNGVIMASVCQYTICQLPYTDCKPNTNGNKLIGFWHTDVKPPICVLKRNFTLNVNADAFYFHFYQHGGTFYAYYADKPSATTFLFSVYIGDILTQYYVLPFICNPTAGSTFAPRYWVTPLVKRQYLFNFNQKGVITSAVDCASSYTSEIKCKTQSMLPSTGVYELSGYTVQPVGVVYRRVANLPACNIEEWLTARSVPSPLNWERKTFQNCNFNLSSLLRYVQAESLFCNNIDASKVYGRCFGSISVDKFAVPRSRQVDLQLGNSGFLQTANYKIDTAATSCQLHYTLPKNNVTINNHNPSSWNRRYGFNDAGVFGKNQHDVVYAQQCFTVRSSYCPCAQPDIVSPCTTQTKPKSAFVNVGDHCEGLGVLEDNCGNADPHKGCICANNSFIGWSHDTCLVNDRCQIFANILLNGINSGTTCSTDLQLPNTEVVTGICVKYDLYGITGQGVFKEVKADYYNSWQTLLYDVNGNLNGFRDLTTNKTYTIRSCYSGRVSAAFHKDAPEPALLYRNINCSYVFSNNISREENPLNYFDSYLGCVVNADNRTDEALPNCDLRMGAGLCVDYSKSRRAHRSVSTGYRLTTFEPYTPMLVNDSVQSVDGLYEMQIPTNFTIGHHEEFIQTRSPKVTIDCAAFVCGDNTACRQQLVEYGSFCVNVNAILNEVNNLLDNMQLQVASALMQGVTISSRLPDGISGPIDDINFSPLLGCIGSTCAEDGNGPSAIRGRSAIEDLLFDKVKLSDVGFVEAYNNCTGGQEVRDLLCVQSFNGIKVLPPVLSESQISGYTTGATAAAMFPPWSAAAGVPFSLSVQYRINGLGVTMNVLSENQKMIASAFNNALGAIQDGFDATNSALGKIQSVVNANAEALNNLLNQLSNRFGAISASLQEILTRLEAVEAKAQIDRLINGRLTALNAYISKQLSDSTLIKVSAAQAIEKVNECVKSQTTRINFCGNGNHILSLVQNAPYGLYFIHFSYVPISFTTANVSPGLCISGDRGLAPKAGYFVQDDGEWKFTGSSYYYPEPITDKNSVIMSSCAVNYTKAPEVFLNTSIPNPPDFKEELDKWFKNQTSIAPDLSLDFEKLNVTLLDLTYEMNRIQDAIKKLNESYINLKEVGTYEMYVKWPWYVWLLIGLAGVAVCVLLFFICCCTGCGSCCFKKCGNCCDEYGGHQDSIVIHNISSHED',\n",
    "'MLVTPLLLVTLLCALCSAVLYDSSSYVYYYQSAFRPPSGWHLQGGAYAVVNISSEFNNAGSSSGCTVGIIHGGRVVNASSIAMTAPSSGMAWSSSQFCTAHCNFSDTTVFVTHCYKHGGCPLTGMLQQNLIRVSAMKNGQLFYNLTVSVAKYPTFRSFQCVNNLTSVYLNGDLVYTSNETIDVTSAGVYFKAGGPITYKVMREVKALAYFVNGTAQDVILCDGSPRGLLACQYNTGNFSDGFYPFTNSSLVKQKFIVYRENSVNTTCTLHNFIFHNETGANPNPSGVQNIQTYQTKTAQSGYYNFNFSFLSSFVYKESNFMYGSYHPSCKFRLETINNGLWFNSLSVSIAYGPLQGGCKQSVFKGRATCCYAYSYGGPSLCKGVYSGELDHNFECGLLVYVTKSGGSRIQTATEPPVITQNNYNNITLNTCVDYNIYGRTGQGFITNVTDSAVSYNYLADAGLAILDTSGSIDIFVVQGEYGLNYYKVNPCEDVNQQFVVSGGKLVGILTSRNETGSQLLENQFYIKITNGTRRFRRSITENVANCPYVSYGKFCIKPDGSIATIVPKQLEQFVAPLFNVTENVLIPNSFNLTVTDEYIQTRMDKVQINCLQYVCGSSLDCRKLFQQYGPVCDNILSVVNSVGQKEDMELLNFYSSTKPAGFNTPVLSNVSTGEFNISLLLTNPSSRRKRSLIEDLLFTSVESVGLPTNDAYKNCTAGPLGFFKDLACAREYNGLLVLPPIITAEMQALYTSSLVASMAFGGITAAGAIPFATQLQARINHLGITQSLLLKNQEKIAASFNKAIGHMQEGFRSTSLALQQIQDVVSKQSAILTETMASLNKNFGAISSVIQEIYQQFDAIQANAQVDRLITGRLSSLSVLASAKQAEYIRVSQQRELATQKINECVKSQSIRYSFCGNGRHVLTIPQNAPNGIVFIHFSYTPDSFVNVTAIVGFCVKPANASQYAIVPANGRGIFIQVNGSYYITARDMYMPRAITAGDVVTLTSCQANYVSVNKTVITTFVDNDDFDFNDELSKWWNDTKHELPDFDKFNYTVPILDIDSEIDRIQGVIQGLNDSLIDLEKLSILKTYIKWPWYVWLAIAFATIIFILILGWVFFMTGCCGCCCGCFGIMPLMSKCGKKSSYYTTFDNDVVTEQYRPKKSV',\n",
    "'MFLILLISLPTAFAVIGDLKCTSDNINDKDTGPPPISTDTVDVTNGLGTYYVLDRVYLNTTLFLNGYYPTSGSTYRNMALKGSVLLSRLWFKPPFLSDFINGIFAKVKNTKVIKDRVMYSEFPAITIGSTFVNTSYSVVVQPRTINSTQDGDNKLQGLLEVSVCQYNMCEYPQTICHPNLGNHRKELWHLDTGVVSCLYKRNFTYDVNADYLYFHFYQEGGTFYAYFTDTGVVTKFLFNVYLGMALSHYYVMPLTCNSKLTLEYWVTPLTSRQYLLAFNQDGIIFNAEDCMSDFMSEIKCKTQSIAPPTGVYELNGYTVQPIADVYRRKPNLPNCNIEAWLNDKSVPSPLNWERKTFSNCNFNMSSLMSFIQADSFTCNNIDAAKIYGMCFSSITIDKFAIPNGRKVDLQLGNLGYLQSFNYRIDTTATSCQLYYNLPAANVSVSRFNPSTWNKRFGFIEDSVFKPRPAGVLTNHDVVYAQHCFKAPKNFCPCKLNGSCVGSGPGKNNGIGTCPAGTNYLTCDNLCTPDPITFTGTYKCPQTKSLVGIGEHCSGLAVKSDYCGGNSCTCRPQAFLGWSADSCLQGDKCNIFANFILHDVNSGLTCSTDLQKANTDIILGVCVNYDLYGILGQGIFVEVNATYYNSWQNLLYDSNGNLYGFRDYIINRTFMIRSCYSGRVSAAFHANSSEPALLFRNIKCNYVFNNSLTRQLQPINYFDSYLGCVVNAYNSTAISVQTCDLTVGSGYCVDYSKNRRSRGAITTGYRFTNFEPFTVNSVNDSLEPVGGLYEIQIPSEFTIGNMVEFIQTSSPKVTIDCAAFVCGDYAACKSQLVEYGSFCDNINAILTEVNELLDTTQLQVANSLMNGVTLSTKLKDGVNFNVDDINFSPVLGCLGSECSKASSRSAIEDLLFDKVKLSDVGFVEAYNNCTGGAEIRDLICVQSYKGIKVLPPLLSENQISGYTLAATSASLFPPWTAAAGVPFYLNVQYRINGLGVTMDVLSQNQKLIANAFNNALYAIQEGFDATNSALVKIQAVVNANAEALNNLLQQLSNRFGAISASLQEILSRLDALEAEAQIDRLINGRLTALNAYVSQQLSDSTLVKFSAAQAMEKVNECVKSQSSRINFCGNGNHIISLVQNAPYGLYFIHFSYVPTKYVTARVSPGLCIAGDRGIAPKSGYFVNVNNTWMYTGSGYYYPEPITENNVVVMSTCAVNYTKAPYVMLNTSIPNLPDFKEELDQWFKNQTSVAPDLSLDYINVTFLDLQVEMNRLQEAIKVLNQSYINLKDIGTYEYYVKWPWYVWLLICLAGVAMLVLLFFICCCTGCGTSCFKKCGGCCDDYTGYQELVIKTSHDD',\n",
    "'MLVTPLLLVTLLCVLCSAALYDSSSYVYYYQSAFRPPNGWHLHGGAYAVVNISSESNNAGSSPGCIVGTIHGGRVVNASSIAMTAPSSGMAWSSSQFCTAHCNFSDTTVFVTHCYKYDGCPITGMLQKNFLRVSAMKNGQLFYNLTVSVAKYPTFKSFQCVNNLTSVYLNGDLVYTSNETTDVTSAGVYFKAGGPITYKVMRKVKALAYFVNGTAQDVILCDGSPRGLLACQYNTGNFSDGFYPFINSSLVKQKFIVYRENSVNTTFTLHNFTFHNETGANPNPSGVQNILTYQTQTAQSGYYNFNFSFLSSFVYKESNFMYGSYHPSCNFRLETINNGLWFNSLSVSIAYGPLQGGCKQSVFSGRATCCYAYSYGGPSLCKGVYSGELDLNFECGLLVYVTKSGGSRIQTATEPPVITRHNYNNITLNTCVDYNIYGRTGQGFITNVTDSAVSYNYLADAGLAILDTSGSIDIFVVQGEYGLTYYKVNPCEDVNQQFVVSGGKLVGILTSRNETGSQLLENQFYIKITNGTRRFRRSITENVANCPYVSYGKFCIKPDGSIATIVPKQLEQFVAPLLNVTENVLIPNSFNLTVTDEYIQTRMDKVQINCLQYVCGNSLDCRDLFQQYGPVCDNILSVVNSIGQKEDMELLNFYSSTKPAGFNTPFLSNVSTGEFNISLLLTTPSSPRRRSFIEDLLFTSVESVGLPTDDAYKNCTAGPLGFLKDLACAREYNGLLVLPPIITAEMQTLYTSSLVASMAFGGITAAGAIPFATQLQARINHLGITQSLLLKNQEKIAASFNKAIGRMQEGFRSTSLALQQIQDVVNKQSAILTETMASLNKNFGAISSVIQEIYQQLDAIQANAQVDRLITGRLSSLSVLASAKQAEHIRVSQQRELATQKINECVKSQSIRYSFCGNGRHVLTIPQNAPNGIVFIHFSYTPDSFVNVTAIVGFCVKPANASQYAIVPANGRGIFIQVNGSYYITARDMYMPRAITAGDIVTLTSCQANYVSVNKTVITTFVDNDDFDFNDELSKWWNDTKHELPDFDKFNYTVPILDIDSEIDRIQGVIQGLNDSLIDLEKLSILKTYIKWPWYVWLAIAFATIIFILILGWVFFMTGCCGCCCGCFGIMPLMSKCGKKSSYYTTFDNDVVTEQNRPKKSV',\n",
    "'MFVLLVAYALLHIAGCQTTNGLNTSYSVCNGCVGYSENVFAVESGGYIPSDFAFNNWFLLTNTSSVVDGVVRSFQPLLLNCLWSVSGLRFTTGFVYFNGTGRGDCKGFSSDVLSDVIRYNLNFEENLRRGTILFKTSYGVVVFYCTNNTLVSGDAHIPFGTVLGNFYCFVNTTIGNETTSAFVGALPKTVREFVISRTGHFYINGYRYFTLGNVEAVNFNVTTAETTDFCTVALASYADVLVNVSQTSIANIIYCNSVINRLRCDQLSFDVPDGFYSTSPIQSVELPVSIVSLPVYHKHTFIVLYVDFKPQSGGGKCFNCYPAGVNITLANFNETKGPLCVDTSHFTTKYVAVYANVGRWSASINTGNCPFSFGKVNNFVKFGSVCFSLKDIPGGCAMPIVANWAYSKYYTIGSLYVSWSDGDGITGVPQPVEGVSSFMNVTLDKCTKYNIYDVSGVGVIRVSNDTFLNGITYTSTSGNLLGFKDVTKGTIYSITPCNPPDQLVVYQQAVVGAMLSENFTSYGFSNVVELPKFFYASNGTYNCTDAVLTYSSFGVCADGSIIAVQPRNVSYDSVSAIVTANLSIPSNWTTSVQVEYLQITSTPIVVDCSTYVCNGNVRCVELLKQYTSACKTIEDALRNSARLESADVSEMLTFDKKAFTLANVSSFGDYNLSSVIPSLPTSGSRVAGRSAIEDILFSKLVTSGLGTVDADYKKCTKGLSIADLACAQYYNGIMVLPGVADAERMAMYTGSLIGGIALGGLTSAVSIPFSLAIQARLNYVALQTDVLQENQKILAASFNKAMTNIVDAFTGVNDAITQTSQALQTVATALNKIQDVVNQQGNSLNHLTSQLRQNFQAISSSIQAIYDRLDTIQADQQVDRLITGRLAALNVFVSHTLTKYTEVRASRQLAQQKVNECVKSQSKRYGFCGNGTHIFSIVNAAPEGLVFLHTVLLPTQYKDVEAWSGLCVDGTNGYVLRQPNLALYKEGNYYRITSRIMFEPRIPTMADFVQIENCNVTFVNISRSELQTIVPEYIDVNKTLQELSYKLPNYTVPDLVVEQYNQTILNLTSEISTLENKSAELNYTVQKLQTLIDNINSTLVDLKWLNRVETYIKWPWWVWLCISVVLIFVVSMLLLCCCSTGCCGFFSCFASSIRGCCESTKLPYYDVEKIHIQ',\n",
    "'MKLFLILLVLPLASCFFTCNSNANLSMLQLGVPDNSSTIVTGLLPTHWFCANQSTSVYSANGFFYIDVGNHRSAFALHTGYYDANQYYIYVTNEIGLNASVTLKICKFSRNTTFDFLSNASSSFDCIVNLLFTEQLGAPLGITISGETVRLHLYNVTRTFYVPAAYKLTKLSVKCYFNYSCVFSVVNATVTVNVTTHNGRVVNYTVCDDCNGYTDNIFSVQQDGRIPNGFPFNNWFLLTNGSTLVDGVSRLYQPLRLTCLWPVPGLKSSTGFVYFNATGSDVNCNGYQHNSVVDVMRYNLNFSANSLDNLKSGVIVFKTLQYDVLFYCSNSSSGVLDTTIPFGPSSQPYYCFINSTINTTHVSTFVGILPPTVREIVVARTGQFYINGFKYFDLGFIEAVNFNVTTASATDFWTVAFATFVDVLVNVSATNIQNLLYCDSPFEKLQCEHLQFGLQDGFYSANFLDDNVLPETYVALPIYYQHTDINFTATASFGGSCYVCKPHQVNISLNGNTSVCVRTSHFSIRYIYNRVKSGSPGDSSWHIYLKSGTCPFSFSKLNNFQKFKTICFSTVEVPGSCNFPLEATWHYTSYTIVGALYVTWSEGNSITGVPYPVSGIREFSNLVLNNCTKYNIYDYVGTGIIRSSNQSLAGGITYVSNSGNLLGFKNVSTGNIFIVTPCNQPDQVAVYQQSIIGAMTAVNESRYGLQNLLQLPNFYYVSNGGNNCTTAVMTYSNFGICADGSLIPVRPRNSSDNGISAIITANLSIPSNWTTSVQVEYLQITSTPIVVDCATYVCNGNPRCKNLLKQYTSACKTIEDALRLSAHLETNDVSSMLTFDSNAFSLANVTSFGDYNLSSVLPQRNIRSSRIAGRSALEDLLFSKVVTSGLGTVDVDYKSCTKGLSIADLACAQYYNGIMVLPGVADAERMAMYTGSLIGGMVLGGLTSAAAIPFSLALQARLNYVALQTDVLQENQKILAASFNKAINNIVASFSSVNDAITQTAEAIHTVTIALNKIQDVVNQQGSALNHLTSQLRHNFQAISNSIQAIYDRLDSIQADQQVDRLITGRLAALNAFVSQVLNKYTEVRGSRRLAQQKINECVKSQSNRYGFCGNGTHIFSIVNSAPDGLLFLHTVLLPTDYKNVKAWSGICVDGIYGYVLRQPNLVLYSDNGVFRVTSRVMFQPRLPVLSDFVQIYNCNVTFVNISRVELHTVIPDYVDVNKTLQEFAQNLPKYVKPNFDLTPFNLTYLNLSSELKQLEAKTASLFQTTVELQGLIDQINSTYVDLKLLNRFENYIKWPWWVWLIISVVFVVLLSLLVFCCLSTGCCGCCNCLTSSMRGCCDCGSTKLPYYEFEKVHVQ',\n",
    "'MFLCFCTAPILCLWINSGGAVVVSNESLVVCEPVSYPYSLQVLRSFSQRVNLRTKRAVTTDAWSFAYQISTSSLNVNGWYVNFTSPLGWSYPNGKLFGIVLGSDAMMRASVSTFTYDVISYVGQRPNLDCQINDLANGGLESRYSTVRVDNCGNYPCHGGGKPGCSIGHPYMANGVRTRVLLTTQSPGIQYEIYSGQDYAVYQITPYTQYTVTMPSGTSGYCQQTPLYVECGSWTPYRVHAYGCDKATQSCNYTISSDWVVAFKSKASAIILRSQLIVALAQKLSRTVGVNKAVYFWFLKQPYHYLSLVNFSPNYALFSPLCKSLRQQSATYSALSYGSPFFVAQECYNNALYLPDCCLYTLFSILFSWDYQVNYPVNNVLQANETFLQLPTTGYLGQTVSQGRMLNLFKDAIVFLDFYDTKFYRTNDGPGGDIFAVVVKQVPVIAYSAFRIEQQTGYLAVKCNGVIQATLAPHSSRVVLLARHMSMWSIAAANSTTIYCPIYTLTSFVRLDISTSWYFHTLAQPSGPIQQVSMPVLSTGAAGVYMHPMIEHWVTLLAQSSVYQPSMFNMGVNKSVTLTTQLQAYAQVYTAWFLSILYTRLPESRRLTLGAQLTPFIQALLSFKQADIDATDVDTVARYNVLILMWGRKYAAVIYNQLPEWSYPLFKGGVGDSMWFRKKFLVTTKIHQTASHFPFIAGYLDFLDYKYIPKYKDVACPLSTMVPSILQVYETPQLFVIIVQCVSTTYSWYPGLRNPHTIYRSYKLGTICVLVPYSSPTDVYSSFGFFFQSALTIPTVQTTDDILPGCVGFVQDSVFTPCHPSGCPVRNSYDNYIICPGSSASNYTLRNYYRTTTPVTNVPIEEVPLQLEIPTVSLTSYELKQSESVLLQDIEGGIVVDHNTGSIWYPGGQAYDVSFYVSVIIRYAPPKLELPSTLANFTSCLDYICFGNQQCRGEAQTFCTSMDYFEQVFNKSLTSLITALQDLHYVLKLVLPETTLELTEDTRRRRRAVDEFSDTISLLSESFERFMSPASQAYMANMMWWDEAFDGISLPQRTGSILSSAPSLSSISSWHSYSSRTPLISNVKTPKTTFNVKLSMPKLPKASTLSTIGSVLSSGLSIASLGLSIFSIIEDRRVIELTQQQIMALEDQITILAGYTTKNFEEIQSSLNTLGQQVQDFSQTSALSLQQLSNGFEQITQQLDKSIYYVMAVQQYATYMSSLVNQLNELSQAVYKTQDMYITCIHSLQSGVLSPNCITPFQICHLYQVAKNLSSGECQPILSEREISRFYSLPLVTDAMVHNDTYWFSWSIPITCSNILGSVYKVQPGYIVNPHHPTSLQYDVPTHVVTSNAGALIFDEHYCDRYNQVYLCTKSAFDLAEASYLTMLYSNQTDNSSLTFHPAPRPDPCVYLSASALYCYYSDECHQCVIAVGNCTNRTVTYENYTYPIMDPQCRGFDQITISSPIAIGADFTALPSRPPLPLHLSYVNVTFNVTLPNELNWTDLVLDYSFKDKVYEISKNITQLHEQILQVSNWASGWFQRLRDFLYGLIPAWITWLTLGFSLFSILISGVNIILFFEMNGKVKKS']"
   ]
  },
  {
   "cell_type": "code",
   "execution_count": 12,
   "metadata": {},
   "outputs": [],
   "source": [
    "for i, seq in enumerate(seq_comp):\n",
    "    matriz, a_alinhado, b_alinhado = needleman_wunsch(seq_orig, seq)\n",
    "    f = open(f\"seq_{i+2}.txt\", \"w\")\n",
    "    f.write(f\"{a_alinhado}\\n\")\n",
    "    f.write(b_alinhado)\n",
    "    f.close()\n"
   ]
  },
  {
   "cell_type": "code",
   "execution_count": null,
   "metadata": {},
   "outputs": [],
   "source": []
  }
 ],
 "metadata": {
  "kernelspec": {
   "display_name": "Python 3",
   "language": "python",
   "name": "python3"
  },
  "language_info": {
   "codemirror_mode": {
    "name": "ipython",
    "version": 3
   },
   "file_extension": ".py",
   "mimetype": "text/x-python",
   "name": "python",
   "nbconvert_exporter": "python",
   "pygments_lexer": "ipython3",
   "version": "3.8.7-final"
  }
 },
 "nbformat": 4,
 "nbformat_minor": 4
}